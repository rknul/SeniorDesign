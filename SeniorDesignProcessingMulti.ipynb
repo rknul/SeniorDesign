{
  "cells": [
    {
      "cell_type": "markdown",
      "source": [
        "# Code for obtaining blade lengths of the turbine"
      ],
      "metadata": {
        "id": "pJBsMYL44cKP"
      },
      "id": "pJBsMYL44cKP"
    },
    {
      "cell_type": "code",
      "execution_count": 12,
      "id": "9a22172a-f0ba-4ef9-b20a-2ddb318a0744",
      "metadata": {
        "id": "9a22172a-f0ba-4ef9-b20a-2ddb318a0744"
      },
      "outputs": [],
      "source": [
        "#Senior Design Data Processing Example\n",
        "import numpy as np\n",
        "import pandas as pd\n",
        "import openpyxl\n",
        "import matplotlib.pyplot as plt"
      ]
    },
    {
      "cell_type": "code",
      "source": [
        "path = (input(\"Paste the copied path here: \"))"
      ],
      "metadata": {
        "colab": {
          "base_uri": "https://localhost:8080/"
        },
        "id": "062EeEDp_il4",
        "outputId": "64a236c7-2715-40b4-df84-14d183b5e606"
      },
      "id": "062EeEDp_il4",
      "execution_count": 13,
      "outputs": [
        {
          "name": "stdout",
          "output_type": "stream",
          "text": [
            "Paste the copied path here: /content/snapshot_MULTI_SENSOR_2023-04-30_14-23-41.477.csv\n"
          ]
        }
      ]
    },
    {
      "cell_type": "markdown",
      "source": [
        "# Data preprocessing"
      ],
      "metadata": {
        "id": "H-LYDFPI4ZDo"
      },
      "id": "H-LYDFPI4ZDo"
    },
    {
      "cell_type": "code",
      "execution_count": 14,
      "id": "219eb8e6-a597-4216-a66e-c557bd006424",
      "metadata": {
        "colab": {
          "base_uri": "https://localhost:8080/"
        },
        "id": "219eb8e6-a597-4216-a66e-c557bd006424",
        "outputId": "cb4df6cc-2e79-4b7a-9d42-d75ac6ad15ca"
      },
      "outputs": [
        {
          "output_type": "stream",
          "name": "stderr",
          "text": [
            "<ipython-input-14-c211e8c8cd84>:1: DtypeWarning: Columns (1,2,3,4,5,6,7,8,9,10,11,12,13,14,15,16,17,18,19,20,21,22,23,24,25,26,27,28,29,30,31,32,33,34,35,36,37,38,39,40,41,42,43,44,45,46,47,48,49,50,51,52,53,54,55,56,57,58) have mixed types. Specify dtype option on import or set low_memory=False.\n",
            "  dataset = pd.read_csv(path, dtype={'#1_Distance1 (in)': int, '#2_Distance1 (in)': int, '#3_Distance (in)': int })\n"
          ]
        }
      ],
      "source": [
        "dataset = pd.read_csv(path, dtype={'#1_Distance1 (in)': int, '#2_Distance1 (in)': int, '#3_Distance (in)': int })"
      ]
    },
    {
      "cell_type": "code",
      "execution_count": 20,
      "id": "efa06688-e108-4430-94bb-cf34f0b70f7d",
      "metadata": {
        "id": "efa06688-e108-4430-94bb-cf34f0b70f7d"
      },
      "outputs": [],
      "source": [
        "newData = dataset.drop(labels=range(0, 10), axis=0)"
      ]
    },
    {
      "cell_type": "code",
      "execution_count": 21,
      "id": "59052b6f-d7e2-4a7c-985c-c0517012b639",
      "metadata": {
        "id": "59052b6f-d7e2-4a7c-985c-c0517012b639"
      },
      "outputs": [],
      "source": [
        "newData = newData[['Unnamed: 2', 'Unnamed: 3', 'Unnamed: 4']]"
      ]
    },
    {
      "cell_type": "code",
      "execution_count": 23,
      "id": "68d249de-de42-49e4-aae3-34d84f39b0ca",
      "metadata": {
        "id": "68d249de-de42-49e4-aae3-34d84f39b0ca"
      },
      "outputs": [],
      "source": [
        "newData['Unnamed: 2']=newData['Unnamed: 2'].astype(float)\n",
        "newData['Unnamed: 3']=newData['Unnamed: 3'].astype(float)\n",
        "newData['Unnamed: 4']=newData['Unnamed: 4'].astype(float)"
      ]
    },
    {
      "cell_type": "code",
      "execution_count": 25,
      "id": "7195cf9e-f546-42e5-b81f-ed2a9aa2df59",
      "metadata": {
        "id": "7195cf9e-f546-42e5-b81f-ed2a9aa2df59"
      },
      "outputs": [],
      "source": [
        "#Take datapoints from csv file into data_set_array\n",
        "data_set_array = newData['Unnamed: 2'] #Blade Distance\n",
        "data_set_array2 = newData['Unnamed: 3'] #Sensor Distance\n",
        "data_set_array3 = newData['Unnamed: 4'] #Sweeping Distance\n",
        "m = len(data_set_array);\n",
        "n = m-1;"
      ]
    },
    {
      "cell_type": "markdown",
      "source": [
        "# Plotting the blade tip data acquisition"
      ],
      "metadata": {
        "id": "DNWFhAAa4T0k"
      },
      "id": "DNWFhAAa4T0k"
    },
    {
      "cell_type": "code",
      "execution_count": 29,
      "id": "b0d2b3de-d4c6-4353-8dbe-951403f0f30d",
      "metadata": {
        "id": "b0d2b3de-d4c6-4353-8dbe-951403f0f30d"
      },
      "outputs": [],
      "source": [
        "#Data processing to take the points at the tip of the blade (minimum values)\n",
        "\n",
        "sample_plot = []"
      ]
    },
    {
      "cell_type": "code",
      "execution_count": 31,
      "id": "e2f9e009-6579-4c38-bad5-f18b02b9bea5",
      "metadata": {
        "colab": {
          "base_uri": "https://localhost:8080/"
        },
        "id": "e2f9e009-6579-4c38-bad5-f18b02b9bea5",
        "outputId": "213869a2-fbeb-4290-d16b-52f1103b6807"
      },
      "outputs": [
        {
          "output_type": "stream",
          "name": "stdout",
          "text": [
            "This is the end of the array 26483\n"
          ]
        }
      ],
      "source": [
        "\n",
        "\n",
        "#Compare previous, present, and future values and append the minimum value to the new array\n",
        "for (iteration) in range(m):\n",
        "    # print(current_low)\n",
        "    if iteration == 10:\n",
        "        pass\n",
        "        # print(\"We are starting to process the data\")\n",
        "    elif iteration < 10:\n",
        "        pass\n",
        "        # print(\"We're getting ready\")\n",
        "    elif iteration == n:\n",
        "        pass\n",
        "    else:\n",
        "        sample_plot.append(data_set_array[iteration])"
      ]
    },
    {
      "cell_type": "code",
      "execution_count": 32,
      "id": "81446fbd-7277-4fca-a8c3-e5d3c8d55c5f",
      "metadata": {
        "colab": {
          "base_uri": "https://localhost:8080/",
          "height": 472
        },
        "id": "81446fbd-7277-4fca-a8c3-e5d3c8d55c5f",
        "outputId": "2f4c3a24-091a-4872-ceda-f72b75b1a2e9"
      },
      "outputs": [
        {
          "output_type": "display_data",
          "data": {
            "text/plain": [
              "<Figure size 640x480 with 1 Axes>"
            ],
            "image/png": "[encoded data removed]"
          },
          "metadata": {}
        }
      ],
      "source": [
        "plt.plot(sample_plot)\n",
        "\n",
        "plt.title('Data Collection')\n",
        "plt.xlabel('X-axis')\n",
        "plt.ylabel('Y-axis')\n",
        "\n",
        "plt.xlim(0, m)\n",
        "plt.ylim(0, 2)\n",
        "\n",
        "plt.show()"
      ]
    },
    {
      "cell_type": "markdown",
      "source": [
        "# Processing the data to find the blade tips"
      ],
      "metadata": {
        "id": "o6xZ2EoN4Hgx"
      },
      "id": "o6xZ2EoN4Hgx"
    },
    {
      "cell_type": "code",
      "execution_count": 37,
      "id": "91717ddf-fdaa-499e-a22b-a323089b47dc",
      "metadata": {
        "id": "91717ddf-fdaa-499e-a22b-a323089b47dc"
      },
      "outputs": [],
      "source": [
        "threshold_start = 1.3\n",
        "threshold_end = 0\n",
        "current_low = 10000\n",
        "\n",
        "tip_detected = 0 #BOOLEAN \n",
        "skips = 0 #SKIP ITERATION\n",
        "iteration_holder = 0\n",
        "data_blade_tips = []\n",
        "data_sensor_distance = []"
      ]
    },
    {
      "cell_type": "code",
      "execution_count": 38,
      "id": "a5797210-b6d2-4bec-9c02-f8a198b13082",
      "metadata": {
        "id": "a5797210-b6d2-4bec-9c02-f8a198b13082"
      },
      "outputs": [],
      "source": [
        "\n",
        "\n",
        "#Compare previous, present, and future values and append the minimum value to the new array\n",
        "for iteration in range(m):\n",
        "    if(skips > 0):\n",
        "        skips = skips - 1\n",
        "    else:\n",
        "        if iteration == 10:\n",
        "          pass\n",
        "        elif iteration < 10:\n",
        "          pass\n",
        "        elif iteration == n:\n",
        "          pass\n",
        "        elif ((data_set_array[iteration] < threshold_start) and (data_set_array[iteration+1] < threshold_start) and (data_set_array[iteration] > 0)):\n",
        "            iteration_holder = iteration\n",
        "            while ((data_set_array[iteration_holder] < threshold_start)):\n",
        "                if (data_set_array[iteration_holder] < current_low):\n",
        "                    current_low = data_set_array[iteration_holder]\n",
        "                iteration_holder = iteration_holder + 1\n",
        "            skips = iteration_holder - iteration\n",
        "            if current_low < 0:\n",
        "                pass\n",
        "            else:\n",
        "                data_blade_tips.append(current_low)\n",
        "                data_sensor_distance.append(data_set_array2[iteration])\n",
        "        else:\n",
        "            current_low = 10000"
      ]
    },
    {
      "cell_type": "markdown",
      "source": [
        "# Calculating blade lengths"
      ],
      "metadata": {
        "id": "EDIPrscsrnFy"
      },
      "id": "EDIPrscsrnFy"
    },
    {
      "cell_type": "code",
      "source": [
        "for iteration in range(len(data_blade_tips)):\n",
        "  data_blade_tips[iteration] = data_blade_tips[iteration] + data_sensor_distance[iteration]"
      ],
      "metadata": {
        "id": "poTxyO234E-l"
      },
      "id": "poTxyO234E-l",
      "execution_count": null,
      "outputs": []
    },
    {
      "cell_type": "code",
      "source": [
        "blindspot = 1.1811\n",
        "A = float(input(\"What is the journal's radius: \"))\n",
        "A = A + blindspot\n",
        "D = float(input(\"What's the distance from the journal sensor to the blade sensor of the frame: \"))\n",
        "D = D + blindspot\n",
        "\n",
        "totalDistance = A + D\n",
        "\n",
        "data_blade_length = []\n",
        "\n",
        "x = len(data_blade_tips)\n",
        "for iteration in range(x):\n",
        "  blade_length = totalDistance - (data_blade_tips[iteration] + blindspot)\n",
        "  data_blade_length.append(blade_length)"
      ],
      "metadata": {
        "colab": {
          "base_uri": "https://localhost:8080/"
        },
        "id": "KI67d9zGrkl2",
        "outputId": "fe03da74-43c1-41db-9c5b-402fdd78b61a"
      },
      "id": "KI67d9zGrkl2",
      "execution_count": 48,
      "outputs": [
        {
          "name": "stdout",
          "output_type": "stream",
          "text": [
            "What is the journal's radius: 10\n",
            "What's the distance from the journal sensor to the blade sensor of the frame: 20\n"
          ]
        }
      ]
    },
    {
      "cell_type": "markdown",
      "source": [
        "# Creating Excel Sheet"
      ],
      "metadata": {
        "id": "CnBapzsW4m9Y"
      },
      "id": "CnBapzsW4m9Y"
    },
    {
      "cell_type": "code",
      "execution_count": null,
      "id": "2d843699-4176-4d32-a590-d04206476d05",
      "metadata": {
        "id": "2d843699-4176-4d32-a590-d04206476d05"
      },
      "outputs": [],
      "source": [
        "#Writing the array to an excel sheet\n",
        "df = pd.DataFrame(data_blade_length)\n",
        "df.to_excel(r\"Data.xlsx\")"
      ]
    }
  ],
  "metadata": {
    "kernelspec": {
      "display_name": "Python 3 (ipykernel)",
      "language": "python",
      "name": "python3"
    },
    "language_info": {
      "codemirror_mode": {
        "name": "ipython",
        "version": 3
      },
      "file_extension": ".py",
      "mimetype": "text/x-python",
      "name": "python",
      "nbconvert_exporter": "python",
      "pygments_lexer": "ipython3",
      "version": "3.9.13"
    },
    "colab": {
      "provenance": []
    }
  },
  "nbformat": 4,
  "nbformat_minor": 5
}